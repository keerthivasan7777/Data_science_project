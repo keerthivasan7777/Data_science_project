{
 "cells": [
  {
   "cell_type": "code",
   "execution_count": 21,
   "id": "2418a1a7",
   "metadata": {
    "execution": {
     "iopub.execute_input": "2024-11-14T03:55:23.231494Z",
     "iopub.status.busy": "2024-11-14T03:55:23.230987Z",
     "iopub.status.idle": "2024-11-14T03:55:28.139717Z",
     "shell.execute_reply": "2024-11-14T03:55:28.138299Z"
    },
    "papermill": {
     "duration": 4.926139,
     "end_time": "2024-11-14T03:55:28.142470",
     "exception": false,
     "start_time": "2024-11-14T03:55:23.216331",
     "status": "completed"
    },
    "tags": []
   },
   "outputs": [],
   "source": [
    "import pandas as pd\n",
    "import seaborn as sns\n",
    "import matplotlib.pyplot as plt"
   ]
  },
  {
   "cell_type": "code",
   "execution_count": 22,
   "id": "8f58a300",
   "metadata": {
    "execution": {
     "iopub.execute_input": "2024-11-14T03:55:28.161280Z",
     "iopub.status.busy": "2024-11-14T03:55:28.160562Z",
     "iopub.status.idle": "2024-11-14T03:55:28.184099Z",
     "shell.execute_reply": "2024-11-14T03:55:28.183042Z"
    },
    "papermill": {
     "duration": 0.03577,
     "end_time": "2024-11-14T03:55:28.186741",
     "exception": false,
     "start_time": "2024-11-14T03:55:28.150971",
     "status": "completed"
    },
    "tags": []
   },
   "outputs": [],
   "source": [
    "df = pd.read_csv(\"C:\\\\Users\\\\Keerthivasan R\\\\OneDrive\\\\Desktop\\\\Internship\\\\Advertising.csv\")"
   ]
  },
  {
   "cell_type": "code",
   "execution_count": null,
   "id": "88dcc001",
   "metadata": {
    "execution": {
     "iopub.execute_input": "2024-11-14T03:55:28.204511Z",
     "iopub.status.busy": "2024-11-14T03:55:28.204080Z",
     "iopub.status.idle": "2024-11-14T03:55:28.231535Z",
     "shell.execute_reply": "2024-11-14T03:55:28.230192Z"
    },
    "papermill": {
     "duration": 0.039325,
     "end_time": "2024-11-14T03:55:28.234094",
     "exception": false,
     "start_time": "2024-11-14T03:55:28.194769",
     "status": "completed"
    },
    "tags": []
   },
   "outputs": [],
   "source": [
    "df.head()"
   ]
  },
  {
   "cell_type": "code",
   "execution_count": null,
   "id": "28b0852e",
   "metadata": {
    "execution": {
     "iopub.execute_input": "2024-11-14T03:55:28.252344Z",
     "iopub.status.busy": "2024-11-14T03:55:28.251932Z",
     "iopub.status.idle": "2024-11-14T03:55:28.259448Z",
     "shell.execute_reply": "2024-11-14T03:55:28.258166Z"
    },
    "papermill": {
     "duration": 0.019642,
     "end_time": "2024-11-14T03:55:28.262121",
     "exception": false,
     "start_time": "2024-11-14T03:55:28.242479",
     "status": "completed"
    },
    "tags": []
   },
   "outputs": [],
   "source": [
    "df.shape"
   ]
  },
  {
   "cell_type": "code",
   "execution_count": null,
   "id": "66344e79",
   "metadata": {
    "execution": {
     "iopub.execute_input": "2024-11-14T03:55:28.281998Z",
     "iopub.status.busy": "2024-11-14T03:55:28.281533Z",
     "iopub.status.idle": "2024-11-14T03:55:28.292253Z",
     "shell.execute_reply": "2024-11-14T03:55:28.290874Z"
    },
    "papermill": {
     "duration": 0.023286,
     "end_time": "2024-11-14T03:55:28.294838",
     "exception": false,
     "start_time": "2024-11-14T03:55:28.271552",
     "status": "completed"
    },
    "tags": []
   },
   "outputs": [],
   "source": [
    "df.isnull().sum() "
   ]
  },
  {
   "cell_type": "code",
   "execution_count": null,
   "id": "5743dd2e",
   "metadata": {
    "execution": {
     "iopub.execute_input": "2024-11-14T03:55:28.313047Z",
     "iopub.status.busy": "2024-11-14T03:55:28.312595Z",
     "iopub.status.idle": "2024-11-14T03:55:28.644902Z",
     "shell.execute_reply": "2024-11-14T03:55:28.643727Z"
    },
    "papermill": {
     "duration": 0.343972,
     "end_time": "2024-11-14T03:55:28.647195",
     "exception": false,
     "start_time": "2024-11-14T03:55:28.303223",
     "status": "completed"
    },
    "tags": []
   },
   "outputs": [],
   "source": [
    "sns.scatterplot(x='TV', y='sales', data=df)\n",
    "plt.title('Sales vs. TV Advertising')\n",
    "plt.show()\n"
   ]
  },
  {
   "cell_type": "code",
   "execution_count": null,
   "id": "c4ba55d3",
   "metadata": {
    "execution": {
     "iopub.execute_input": "2024-11-14T03:55:28.667706Z",
     "iopub.status.busy": "2024-11-14T03:55:28.666464Z",
     "iopub.status.idle": "2024-11-14T03:55:33.024797Z",
     "shell.execute_reply": "2024-11-14T03:55:33.023232Z"
    },
    "papermill": {
     "duration": 4.371623,
     "end_time": "2024-11-14T03:55:33.027869",
     "exception": false,
     "start_time": "2024-11-14T03:55:28.656246",
     "status": "completed"
    },
    "tags": []
   },
   "outputs": [],
   "source": [
    "sns.pairplot(df)\n",
    "plt.show()"
   ]
  },
  {
   "cell_type": "code",
   "execution_count": null,
   "id": "24504809",
   "metadata": {
    "execution": {
     "iopub.execute_input": "2024-11-14T03:55:33.052968Z",
     "iopub.status.busy": "2024-11-14T03:55:33.052509Z",
     "iopub.status.idle": "2024-11-14T03:55:33.355000Z",
     "shell.execute_reply": "2024-11-14T03:55:33.353825Z"
    },
    "papermill": {
     "duration": 0.31812,
     "end_time": "2024-11-14T03:55:33.357514",
     "exception": false,
     "start_time": "2024-11-14T03:55:33.039394",
     "status": "completed"
    },
    "tags": []
   },
   "outputs": [],
   "source": [
    "sns.histplot(df['sales'], bins=25)\n",
    "plt.title('Distribution of Sales')\n",
    "plt.show()"
   ]
  },
  {
   "cell_type": "code",
   "execution_count": null,
   "id": "2d86be18",
   "metadata": {
    "execution": {
     "iopub.execute_input": "2024-11-14T03:55:33.384463Z",
     "iopub.status.busy": "2024-11-14T03:55:33.384018Z",
     "iopub.status.idle": "2024-11-14T03:55:33.641279Z",
     "shell.execute_reply": "2024-11-14T03:55:33.640114Z"
    },
    "papermill": {
     "duration": 0.274153,
     "end_time": "2024-11-14T03:55:33.643942",
     "exception": false,
     "start_time": "2024-11-14T03:55:33.369789",
     "status": "completed"
    },
    "tags": []
   },
   "outputs": [],
   "source": [
    "sns.boxplot(data=df[['TV', 'radio', 'newspaper', 'sales']])\n",
    "plt.title('Box Plot for TV, Radio, Newspaper, and Sales')\n",
    "plt.show()\n"
   ]
  },
  {
   "cell_type": "code",
   "execution_count": null,
   "id": "0d8cbe78",
   "metadata": {
    "execution": {
     "iopub.execute_input": "2024-11-14T03:55:33.671741Z",
     "iopub.status.busy": "2024-11-14T03:55:33.671305Z",
     "iopub.status.idle": "2024-11-14T03:55:33.976440Z",
     "shell.execute_reply": "2024-11-14T03:55:33.975170Z"
    },
    "papermill": {
     "duration": 0.321274,
     "end_time": "2024-11-14T03:55:33.979133",
     "exception": false,
     "start_time": "2024-11-14T03:55:33.657859",
     "status": "completed"
    },
    "tags": []
   },
   "outputs": [],
   "source": [
    "sns.heatmap(df.corr(), annot=True, cmap='coolwarm')\n",
    "plt.title('Correlation Matrix Heatmap')\n",
    "plt.show()"
   ]
  },
  {
   "cell_type": "markdown",
   "id": "314e0fa9",
   "metadata": {},
   "source": [
    "- The heatmap reveals that TV spend has the highest correlation with sales, followed by radio.\n",
    "- Newspaper spend might have a weaker impact on sales."
   ]
  },
  {
   "cell_type": "code",
   "execution_count": null,
   "id": "b22f5aea",
   "metadata": {
    "execution": {
     "iopub.execute_input": "2024-11-14T03:55:34.006540Z",
     "iopub.status.busy": "2024-11-14T03:55:34.006093Z",
     "iopub.status.idle": "2024-11-14T03:55:34.399043Z",
     "shell.execute_reply": "2024-11-14T03:55:34.397813Z"
    },
    "papermill": {
     "duration": 0.409529,
     "end_time": "2024-11-14T03:55:34.401575",
     "exception": false,
     "start_time": "2024-11-14T03:55:33.992046",
     "status": "completed"
    },
    "tags": []
   },
   "outputs": [],
   "source": [
    "df.mean()[:-1].plot(kind='bar')\n",
    "plt.title('Average Advertising Spend Across Mediums')\n",
    "plt.ylabel('Spending')\n",
    "plt.show()"
   ]
  },
  {
   "cell_type": "code",
   "execution_count": null,
   "id": "275fb06a",
   "metadata": {
    "execution": {
     "iopub.execute_input": "2024-11-14T03:55:38.179765Z",
     "iopub.status.busy": "2024-11-14T03:55:38.179319Z",
     "iopub.status.idle": "2024-11-14T03:55:39.102124Z",
     "shell.execute_reply": "2024-11-14T03:55:39.100743Z"
    },
    "papermill": {
     "duration": 0.942848,
     "end_time": "2024-11-14T03:55:39.104861",
     "exception": false,
     "start_time": "2024-11-14T03:55:38.162013",
     "status": "completed"
    },
    "tags": []
   },
   "outputs": [],
   "source": [
    "df['TV_bin'] = pd.qcut(df['TV'], 3, labels=['Low', 'Medium', 'High'])\n",
    "g = sns.FacetGrid(df, col='TV_bin')\n",
    "g.map(sns.histplot, 'sales')\n"
   ]
  },
  {
   "cell_type": "code",
   "execution_count": null,
   "id": "5622b347",
   "metadata": {
    "execution": {
     "iopub.execute_input": "2024-11-14T03:55:43.193713Z",
     "iopub.status.busy": "2024-11-14T03:55:43.192413Z",
     "iopub.status.idle": "2024-11-14T03:55:44.825961Z",
     "shell.execute_reply": "2024-11-14T03:55:44.824742Z"
    },
    "papermill": {
     "duration": 1.653993,
     "end_time": "2024-11-14T03:55:44.828513",
     "exception": false,
     "start_time": "2024-11-14T03:55:43.174520",
     "status": "completed"
    },
    "tags": []
   },
   "outputs": [],
   "source": [
    "sns.boxenplot(x='newspaper', y='sales', data=df)\n",
    "plt.title('Sales vs. Newspaper Spend')\n",
    "plt.show()\n"
   ]
  },
  {
   "cell_type": "code",
   "execution_count": null,
   "id": "834b2aeb",
   "metadata": {
    "execution": {
     "iopub.execute_input": "2024-11-14T03:55:44.865319Z",
     "iopub.status.busy": "2024-11-14T03:55:44.864892Z",
     "iopub.status.idle": "2024-11-14T03:55:45.174195Z",
     "shell.execute_reply": "2024-11-14T03:55:45.172981Z"
    },
    "papermill": {
     "duration": 0.331019,
     "end_time": "2024-11-14T03:55:45.176926",
     "exception": false,
     "start_time": "2024-11-14T03:55:44.845907",
     "status": "completed"
    },
    "tags": []
   },
   "outputs": [],
   "source": [
    "sns.regplot(x='TV', y='sales', data=df)\n",
    "plt.title('TV Spend vs. Sales')\n",
    "plt.show()\n"
   ]
  },
  {
   "cell_type": "markdown",
   "id": "66436de3",
   "metadata": {},
   "source": [
    "- TV vs. Sales: A scatter plot and regression plot suggest a positive correlation between TV ad spend and sales"
   ]
  },
  {
   "cell_type": "code",
   "execution_count": null,
   "id": "c8e41d8b",
   "metadata": {},
   "outputs": [],
   "source": [
    "df.index"
   ]
  },
  {
   "cell_type": "code",
   "execution_count": null,
   "id": "dcf64768",
   "metadata": {
    "execution": {
     "iopub.execute_input": "2024-11-14T03:55:45.214858Z",
     "iopub.status.busy": "2024-11-14T03:55:45.214370Z",
     "iopub.status.idle": "2024-11-14T03:55:45.505251Z",
     "shell.execute_reply": "2024-11-14T03:55:45.504092Z"
    },
    "papermill": {
     "duration": 0.313039,
     "end_time": "2024-11-14T03:55:45.507857",
     "exception": false,
     "start_time": "2024-11-14T03:55:45.194818",
     "status": "completed"
    },
    "tags": []
   },
   "outputs": [],
   "source": [
    "df['cumulative_sales'] = df['sales'].cumsum()\n",
    "sns.lineplot(x=df.index, y='cumulative_sales', data=df)\n",
    "plt.title('Cumulative Sales Over Time')\n",
    "plt.show()\n"
   ]
  },
  {
   "cell_type": "code",
   "execution_count": null,
   "id": "3cc77fdd",
   "metadata": {
    "execution": {
     "iopub.execute_input": "2024-11-14T03:55:45.546431Z",
     "iopub.status.busy": "2024-11-14T03:55:45.545977Z",
     "iopub.status.idle": "2024-11-14T03:55:45.890337Z",
     "shell.execute_reply": "2024-11-14T03:55:45.888972Z"
    },
    "papermill": {
     "duration": 0.366595,
     "end_time": "2024-11-14T03:55:45.892793",
     "exception": false,
     "start_time": "2024-11-14T03:55:45.526198",
     "status": "completed"
    },
    "tags": []
   },
   "outputs": [],
   "source": [
    "sns.histplot(df['sales'], kde=True, color='green')\n",
    "plt.title('Sales Histogram with Density Overlay')\n",
    "plt.show()\n"
   ]
  },
  {
   "cell_type": "code",
   "execution_count": null,
   "id": "e7b0e67b",
   "metadata": {
    "execution": {
     "iopub.execute_input": "2024-11-14T03:55:45.932950Z",
     "iopub.status.busy": "2024-11-14T03:55:45.932475Z",
     "iopub.status.idle": "2024-11-14T03:55:46.298928Z",
     "shell.execute_reply": "2024-11-14T03:55:46.297692Z"
    },
    "papermill": {
     "duration": 0.391064,
     "end_time": "2024-11-14T03:55:46.302849",
     "exception": false,
     "start_time": "2024-11-14T03:55:45.911785",
     "status": "completed"
    },
    "tags": []
   },
   "outputs": [],
   "source": [
    "plt.scatter(df['TV'], df['radio'], s=df['newspaper']*10, alpha=0.5, c=df['sales'], cmap='viridis')\n",
    "plt.colorbar(label='Sales')\n",
    "plt.xlabel('TV')\n",
    "plt.ylabel('Radio')\n",
    "plt.title('TV vs. Radio with Newspaper Bubble Size')\n",
    "plt.show()\n"
   ]
  },
  {
   "cell_type": "code",
   "execution_count": null,
   "id": "865414cb",
   "metadata": {
    "execution": {
     "iopub.execute_input": "2024-11-14T03:55:46.347285Z",
     "iopub.status.busy": "2024-11-14T03:55:46.346890Z",
     "iopub.status.idle": "2024-11-14T03:55:46.596485Z",
     "shell.execute_reply": "2024-11-14T03:55:46.595290Z"
    },
    "papermill": {
     "duration": 0.275088,
     "end_time": "2024-11-14T03:55:46.599355",
     "exception": false,
     "start_time": "2024-11-14T03:55:46.324267",
     "status": "completed"
    },
    "tags": []
   },
   "outputs": [],
   "source": [
    "df['TV_quartile'] = pd.qcut(df['TV'], 4, labels=['Q1', 'Q2', 'Q3', 'Q4'])\n",
    "sns.boxplot(x='TV_quartile', y='sales', data=df)\n",
    "plt.title('Sales by Quartiles of TV Spend')\n",
    "plt.show()"
   ]
  },
  {
   "cell_type": "code",
   "execution_count": null,
   "id": "9e7d91b8",
   "metadata": {
    "execution": {
     "iopub.execute_input": "2024-11-14T03:55:46.645128Z",
     "iopub.status.busy": "2024-11-14T03:55:46.644686Z",
     "iopub.status.idle": "2024-11-14T03:55:46.917125Z",
     "shell.execute_reply": "2024-11-14T03:55:46.915933Z"
    },
    "papermill": {
     "duration": 0.29829,
     "end_time": "2024-11-14T03:55:46.919790",
     "exception": false,
     "start_time": "2024-11-14T03:55:46.621500",
     "status": "completed"
    },
    "tags": []
   },
   "outputs": [],
   "source": [
    "df_sorted = df.sort_values(by='TV')\n",
    "plt.stem(df_sorted['TV'], df_sorted['sales'])\n",
    "plt.xlabel('TV Spend')\n",
    "plt.ylabel('Sales')\n",
    "plt.title('Lollipop Plot of Sales by TV Spend')\n",
    "plt.show()\n"
   ]
  },
  {
   "cell_type": "markdown",
   "id": "4bc1e068",
   "metadata": {},
   "source": [
    "# Final over all Insight"
   ]
  },
  {
   "cell_type": "markdown",
   "id": "2d756cc3",
   "metadata": {},
   "source": [
    "- TV ad spend is the strongest predictor of sales, suggesting businesses \n",
    "   should focus more on TV advertisements.\n",
    "   \n",
    "- Radio and Newspaper spends also impact sales, but to a lesser extent.\n"
   ]
  }
 ],
 "metadata": {
  "kaggle": {
   "accelerator": "none",
   "dataSources": [
    {
     "datasetId": 6040629,
     "sourceId": 9845553,
     "sourceType": "datasetVersion"
    }
   ],
   "dockerImageVersionId": 30786,
   "isGpuEnabled": false,
   "isInternetEnabled": true,
   "language": "python",
   "sourceType": "notebook"
  },
  "kernelspec": {
   "display_name": ".conda",
   "language": "python",
   "name": "python3"
  },
  "language_info": {
   "codemirror_mode": {
    "name": "ipython",
    "version": 3
   },
   "file_extension": ".py",
   "mimetype": "text/x-python",
   "name": "python",
   "nbconvert_exporter": "python",
   "pygments_lexer": "ipython3",
   "version": "3.11.10"
  },
  "papermill": {
   "default_parameters": {},
   "duration": 37.224795,
   "end_time": "2024-11-14T03:55:57.021687",
   "environment_variables": {},
   "exception": null,
   "input_path": "__notebook__.ipynb",
   "output_path": "__notebook__.ipynb",
   "parameters": {},
   "start_time": "2024-11-14T03:55:19.796892",
   "version": "2.6.0"
  }
 },
 "nbformat": 4,
 "nbformat_minor": 5
}
